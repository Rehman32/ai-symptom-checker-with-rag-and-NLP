{
 "cells": [
  {
   "cell_type": "code",
   "execution_count": null,
   "id": "45612fb9-b065-45fd-9645-19bf108f53c9",
   "metadata": {},
   "outputs": [],
   "source": [
    "import streamlit as st\n",
    "\n",
    "# Title of the App\n",
    "st.set_page_config(page_title=\"AI Symptom Checker\", layout=\"centered\")\n",
    "st.title(\"🧠 AI-Powered Symptom Checker\")\n",
    "\n",
    "# Input Box\n",
    "user_input = st.text_area(\"Enter your symptoms below:\", placeholder=\"e.g. fever, sore throat, body ache\")\n",
    "\n",
    "# Submit Button\n",
    "if st.button(\"Check Diagnosis\"):\n",
    "    if user_input.strip() == \"\":\n",
    "        st.warning(\"Please enter your symptoms before submitting.\")\n",
    "    else:\n",
    "        # Placeholder for ML prediction\n",
    "        st.info(f\"🔍 You entered: {user_input}\")\n",
    "        st.success(\"✅ This is where your predicted disease and recommendation will appear.\")\n"
   ]
  }
 ],
 "metadata": {
  "kernelspec": {
   "display_name": "Python 3 (ipykernel)",
   "language": "python",
   "name": "python3"
  },
  "language_info": {
   "codemirror_mode": {
    "name": "ipython",
    "version": 3
   },
   "file_extension": ".py",
   "mimetype": "text/x-python",
   "name": "python",
   "nbconvert_exporter": "python",
   "pygments_lexer": "ipython3",
   "version": "3.12.9"
  }
 },
 "nbformat": 4,
 "nbformat_minor": 5
}
